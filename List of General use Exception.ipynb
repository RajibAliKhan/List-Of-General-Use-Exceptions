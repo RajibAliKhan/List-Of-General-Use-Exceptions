{
 "cells": [
  {
   "cell_type": "code",
   "execution_count": 1,
   "id": "4686de48-6258-4760-a3a0-c68d9f74338c",
   "metadata": {},
   "outputs": [
    {
     "name": "stdout",
     "output_type": "stream",
     "text": [
      "division by zero\n"
     ]
    }
   ],
   "source": [
    "# ZeroDivisionError\n",
    "\n",
    "try :\n",
    "    a = 10/0\n",
    "except ZeroDivisionError as e:\n",
    "    print(e)"
   ]
  },
  {
   "cell_type": "code",
   "execution_count": 6,
   "id": "df445f11-7d75-4d30-b314-9efb00d6a3f6",
   "metadata": {},
   "outputs": [
    {
     "name": "stdout",
     "output_type": "stream",
     "text": [
      "invalid literal for int() with base 10: 'rajib'\n"
     ]
    }
   ],
   "source": [
    "# ValueError, TypeError\n",
    "\n",
    "try :\n",
    "    int('rajib')\n",
    "except (ValueError, TypeError) as e:\n",
    "    print(e)"
   ]
  },
  {
   "cell_type": "code",
   "execution_count": 3,
   "id": "b08ca8f6-3896-4e0f-9e4f-454a0636ea0a",
   "metadata": {},
   "outputs": [
    {
     "name": "stdout",
     "output_type": "stream",
     "text": [
      "this will catch an error.\n"
     ]
    }
   ],
   "source": [
    "# Any random error\n",
    "\n",
    "try :\n",
    "    int('rajib')\n",
    "except :\n",
    "    print('this will catch an error.')"
   ]
  },
  {
   "cell_type": "code",
   "execution_count": 4,
   "id": "c5299c3f-18c3-4301-9a33-0c73c05de9c6",
   "metadata": {},
   "outputs": [
    {
     "name": "stdout",
     "output_type": "stream",
     "text": [
      "No module named 'rajib'\n"
     ]
    }
   ],
   "source": [
    "# ImportError\n",
    "\n",
    "try :\n",
    "    import rajib\n",
    "except ImportError as e :\n",
    "    print(e)"
   ]
  },
  {
   "cell_type": "code",
   "execution_count": 5,
   "id": "e075068a-46c9-4347-a965-be61e2925abd",
   "metadata": {},
   "outputs": [
    {
     "name": "stdout",
     "output_type": "stream",
     "text": [
      "'key2'\n"
     ]
    }
   ],
   "source": [
    "# KeyError\n",
    "\n",
    "try :\n",
    "    d = {'key' : 'rajib', 1 : [2,3,4,5]}\n",
    "    print(d['key2'])\n",
    "except KeyError as e :\n",
    "    print(e)"
   ]
  },
  {
   "cell_type": "code",
   "execution_count": 7,
   "id": "03b3ec21-4e4b-4f77-b5fd-2678a10f9cf7",
   "metadata": {},
   "outputs": [
    {
     "name": "stdout",
     "output_type": "stream",
     "text": [
      "'str' object has no attribute 'test'\n"
     ]
    }
   ],
   "source": [
    "# AttributeError\n",
    "\n",
    "try :\n",
    "    'rajib'.test()\n",
    "except AttributeError as e :\n",
    "    print(e)"
   ]
  },
  {
   "cell_type": "code",
   "execution_count": 8,
   "id": "56470d3d-f476-4c93-adc3-648359b53c6b",
   "metadata": {},
   "outputs": [
    {
     "name": "stdout",
     "output_type": "stream",
     "text": [
      "list index out of range\n"
     ]
    }
   ],
   "source": [
    "# IndexError\n",
    "\n",
    "try :\n",
    "    l = [1,2,3,4,5]\n",
    "    print(l[6])\n",
    "except IndexError as e :\n",
    "    print(e)"
   ]
  },
  {
   "cell_type": "code",
   "execution_count": 9,
   "id": "5f15b679-c15a-42f7-b42f-4a61a6913930",
   "metadata": {},
   "outputs": [
    {
     "name": "stdout",
     "output_type": "stream",
     "text": [
      "unsupported operand type(s) for +: 'int' and 'str'\n"
     ]
    }
   ],
   "source": [
    "# TypeError\n",
    "\n",
    "try :\n",
    "    123 + 'rajib'\n",
    "except TypeError as e :\n",
    "    print(e)"
   ]
  },
  {
   "cell_type": "code",
   "execution_count": 10,
   "id": "f6baa95a-06c2-4362-905c-78f78e6ee705",
   "metadata": {},
   "outputs": [
    {
     "name": "stdout",
     "output_type": "stream",
     "text": [
      "[Errno 2] No such file or directory: 'test.txt'\n"
     ]
    }
   ],
   "source": [
    "# FileNotFoundError\n",
    "\n",
    "try :\n",
    "    with open('test.txt','r') as f :\n",
    "        test1 = f.read()\n",
    "except FileNotFoundError as e :\n",
    "    print(e)"
   ]
  },
  {
   "cell_type": "code",
   "execution_count": 13,
   "id": "75dcb16e-5026-4f17-9445-7a43a3a3984f",
   "metadata": {},
   "outputs": [
    {
     "name": "stdout",
     "output_type": "stream",
     "text": [
      "[Errno 2] No such file or directory: 'test.txt'\n"
     ]
    }
   ],
   "source": [
    "# Here, two 'except' block is used\n",
    "# Exception is a super class (generic) of exception\n",
    "# So, when it is first then it will not move to next except\n",
    "# that why no print for second except\n",
    "# But it is a bad practice\n",
    "# So, never use super class Exception in the top\n",
    "# Bcz it always handle the error alone\n",
    "# So, always use super class Exception in the last\n",
    "\n",
    "try :\n",
    "    with open('test.txt','r') as f :\n",
    "        test1 = f.read()\n",
    "except Exception as e :\n",
    "    print(e)\n",
    "except FileNotFoundError as e :\n",
    "    print('rajib', e)"
   ]
  },
  {
   "cell_type": "code",
   "execution_count": null,
   "id": "7e06e872-352f-4658-bbe2-cff5e18ef76a",
   "metadata": {},
   "outputs": [],
   "source": []
  }
 ],
 "metadata": {
  "kernelspec": {
   "display_name": "Python 3 (ipykernel)",
   "language": "python",
   "name": "python3"
  },
  "language_info": {
   "codemirror_mode": {
    "name": "ipython",
    "version": 3
   },
   "file_extension": ".py",
   "mimetype": "text/x-python",
   "name": "python",
   "nbconvert_exporter": "python",
   "pygments_lexer": "ipython3",
   "version": "3.10.8"
  }
 },
 "nbformat": 4,
 "nbformat_minor": 5
}
